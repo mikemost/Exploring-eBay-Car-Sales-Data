{
 "cells": [
  {
   "cell_type": "markdown",
   "metadata": {},
   "source": [
    "# Exploring eBay Car Sales Data"
   ]
  },
  {
   "cell_type": "markdown",
   "metadata": {
    "collapsed": true
   },
   "source": [
    "In this guided project, we worked with a dataset of used cars from eBay Kleinanzeigen, a classifieds section of the German eBay website. The data comprises of 50,000 sampled data points from the full dataset."
   ]
  },
  {
   "cell_type": "markdown",
   "metadata": {},
   "source": [
    "## Part1:  Import packages and understand the data"
   ]
  },
  {
   "cell_type": "code",
   "execution_count": 1,
   "metadata": {},
   "outputs": [],
   "source": [
    "# Importing packages and reading in the csv data\n",
    "import pandas as pd\n",
    "autos = pd.read_csv(\"autos.csv\", encoding = \"Latin-1\")"
   ]
  },
  {
   "cell_type": "code",
   "execution_count": 2,
   "metadata": {},
   "outputs": [
    {
     "output_type": "execute_result",
     "data": {
      "text/plain": [
       "               dateCrawled                                               name  \\\n",
       "0      2016-03-26 17:47:46                   Peugeot_807_160_NAVTECH_ON_BOARD   \n",
       "1      2016-04-04 13:38:56         BMW_740i_4_4_Liter_HAMANN_UMBAU_Mega_Optik   \n",
       "2      2016-03-26 18:57:24                         Volkswagen_Golf_1.6_United   \n",
       "3      2016-03-12 16:58:10  Smart_smart_fortwo_coupe_softouch/F1/Klima/Pan...   \n",
       "4      2016-04-01 14:38:50  Ford_Focus_1_6_Benzin_TÜV_neu_ist_sehr_gepfleg...   \n",
       "...                    ...                                                ...   \n",
       "49995  2016-03-27 14:38:19   Audi_Q5_3.0_TDI_qu._S_tr.__Navi__Panorama__Xenon   \n",
       "49996  2016-03-28 10:50:25  Opel_Astra_F_Cabrio_Bertone_Edition___TÜV_neu+...   \n",
       "49997  2016-04-02 14:44:48                     Fiat_500_C_1.2_Dualogic_Lounge   \n",
       "49998  2016-03-08 19:25:42                 Audi_A3_2.0_TDI_Sportback_Ambition   \n",
       "49999  2016-03-14 00:42:12                                Opel_Vectra_1.6_16V   \n",
       "\n",
       "       seller offerType    price   abtest vehicleType  yearOfRegistration  \\\n",
       "0      privat   Angebot   $5,000  control         bus                2004   \n",
       "1      privat   Angebot   $8,500  control   limousine                1997   \n",
       "2      privat   Angebot   $8,990     test   limousine                2009   \n",
       "3      privat   Angebot   $4,350  control  kleinwagen                2007   \n",
       "4      privat   Angebot   $1,350     test       kombi                2003   \n",
       "...       ...       ...      ...      ...         ...                 ...   \n",
       "49995  privat   Angebot  $24,900  control   limousine                2011   \n",
       "49996  privat   Angebot   $1,980  control      cabrio                1996   \n",
       "49997  privat   Angebot  $13,200     test      cabrio                2014   \n",
       "49998  privat   Angebot  $22,900  control       kombi                2013   \n",
       "49999  privat   Angebot   $1,250  control   limousine                1996   \n",
       "\n",
       "         gearbox  powerPS   model   odometer  monthOfRegistration fuelType  \\\n",
       "0        manuell      158  andere  150,000km                    3      lpg   \n",
       "1      automatik      286     7er  150,000km                    6   benzin   \n",
       "2        manuell      102    golf   70,000km                    7   benzin   \n",
       "3      automatik       71  fortwo   70,000km                    6   benzin   \n",
       "4        manuell        0   focus  150,000km                    7   benzin   \n",
       "...          ...      ...     ...        ...                  ...      ...   \n",
       "49995  automatik      239      q5  100,000km                    1   diesel   \n",
       "49996    manuell       75   astra  150,000km                    5   benzin   \n",
       "49997  automatik       69     500    5,000km                   11   benzin   \n",
       "49998    manuell      150      a3   40,000km                   11   diesel   \n",
       "49999    manuell      101  vectra  150,000km                    1   benzin   \n",
       "\n",
       "            brand notRepairedDamage          dateCreated  nrOfPictures  \\\n",
       "0         peugeot              nein  2016-03-26 00:00:00             0   \n",
       "1             bmw              nein  2016-04-04 00:00:00             0   \n",
       "2      volkswagen              nein  2016-03-26 00:00:00             0   \n",
       "3           smart              nein  2016-03-12 00:00:00             0   \n",
       "4            ford              nein  2016-04-01 00:00:00             0   \n",
       "...           ...               ...                  ...           ...   \n",
       "49995        audi              nein  2016-03-27 00:00:00             0   \n",
       "49996        opel              nein  2016-03-28 00:00:00             0   \n",
       "49997        fiat              nein  2016-04-02 00:00:00             0   \n",
       "49998        audi              nein  2016-03-08 00:00:00             0   \n",
       "49999        opel              nein  2016-03-13 00:00:00             0   \n",
       "\n",
       "       postalCode             lastSeen  \n",
       "0           79588  2016-04-06 06:45:54  \n",
       "1           71034  2016-04-06 14:45:08  \n",
       "2           35394  2016-04-06 20:15:37  \n",
       "3           33729  2016-03-15 03:16:28  \n",
       "4           39218  2016-04-01 14:38:50  \n",
       "...           ...                  ...  \n",
       "49995       82131  2016-04-01 13:47:40  \n",
       "49996       44807  2016-04-02 14:18:02  \n",
       "49997       73430  2016-04-04 11:47:27  \n",
       "49998       35683  2016-04-05 16:45:07  \n",
       "49999       45897  2016-04-06 21:18:48  \n",
       "\n",
       "[50000 rows x 20 columns]"
      ],
      "text/html": "<div>\n<style scoped>\n    .dataframe tbody tr th:only-of-type {\n        vertical-align: middle;\n    }\n\n    .dataframe tbody tr th {\n        vertical-align: top;\n    }\n\n    .dataframe thead th {\n        text-align: right;\n    }\n</style>\n<table border=\"1\" class=\"dataframe\">\n  <thead>\n    <tr style=\"text-align: right;\">\n      <th></th>\n      <th>dateCrawled</th>\n      <th>name</th>\n      <th>seller</th>\n      <th>offerType</th>\n      <th>price</th>\n      <th>abtest</th>\n      <th>vehicleType</th>\n      <th>yearOfRegistration</th>\n      <th>gearbox</th>\n      <th>powerPS</th>\n      <th>model</th>\n      <th>odometer</th>\n      <th>monthOfRegistration</th>\n      <th>fuelType</th>\n      <th>brand</th>\n      <th>notRepairedDamage</th>\n      <th>dateCreated</th>\n      <th>nrOfPictures</th>\n      <th>postalCode</th>\n      <th>lastSeen</th>\n    </tr>\n  </thead>\n  <tbody>\n    <tr>\n      <th>0</th>\n      <td>2016-03-26 17:47:46</td>\n      <td>Peugeot_807_160_NAVTECH_ON_BOARD</td>\n      <td>privat</td>\n      <td>Angebot</td>\n      <td>$5,000</td>\n      <td>control</td>\n      <td>bus</td>\n      <td>2004</td>\n      <td>manuell</td>\n      <td>158</td>\n      <td>andere</td>\n      <td>150,000km</td>\n      <td>3</td>\n      <td>lpg</td>\n      <td>peugeot</td>\n      <td>nein</td>\n      <td>2016-03-26 00:00:00</td>\n      <td>0</td>\n      <td>79588</td>\n      <td>2016-04-06 06:45:54</td>\n    </tr>\n    <tr>\n      <th>1</th>\n      <td>2016-04-04 13:38:56</td>\n      <td>BMW_740i_4_4_Liter_HAMANN_UMBAU_Mega_Optik</td>\n      <td>privat</td>\n      <td>Angebot</td>\n      <td>$8,500</td>\n      <td>control</td>\n      <td>limousine</td>\n      <td>1997</td>\n      <td>automatik</td>\n      <td>286</td>\n      <td>7er</td>\n      <td>150,000km</td>\n      <td>6</td>\n      <td>benzin</td>\n      <td>bmw</td>\n      <td>nein</td>\n      <td>2016-04-04 00:00:00</td>\n      <td>0</td>\n      <td>71034</td>\n      <td>2016-04-06 14:45:08</td>\n    </tr>\n    <tr>\n      <th>2</th>\n      <td>2016-03-26 18:57:24</td>\n      <td>Volkswagen_Golf_1.6_United</td>\n      <td>privat</td>\n      <td>Angebot</td>\n      <td>$8,990</td>\n      <td>test</td>\n      <td>limousine</td>\n      <td>2009</td>\n      <td>manuell</td>\n      <td>102</td>\n      <td>golf</td>\n      <td>70,000km</td>\n      <td>7</td>\n      <td>benzin</td>\n      <td>volkswagen</td>\n      <td>nein</td>\n      <td>2016-03-26 00:00:00</td>\n      <td>0</td>\n      <td>35394</td>\n      <td>2016-04-06 20:15:37</td>\n    </tr>\n    <tr>\n      <th>3</th>\n      <td>2016-03-12 16:58:10</td>\n      <td>Smart_smart_fortwo_coupe_softouch/F1/Klima/Pan...</td>\n      <td>privat</td>\n      <td>Angebot</td>\n      <td>$4,350</td>\n      <td>control</td>\n      <td>kleinwagen</td>\n      <td>2007</td>\n      <td>automatik</td>\n      <td>71</td>\n      <td>fortwo</td>\n      <td>70,000km</td>\n      <td>6</td>\n      <td>benzin</td>\n      <td>smart</td>\n      <td>nein</td>\n      <td>2016-03-12 00:00:00</td>\n      <td>0</td>\n      <td>33729</td>\n      <td>2016-03-15 03:16:28</td>\n    </tr>\n    <tr>\n      <th>4</th>\n      <td>2016-04-01 14:38:50</td>\n      <td>Ford_Focus_1_6_Benzin_TÜV_neu_ist_sehr_gepfleg...</td>\n      <td>privat</td>\n      <td>Angebot</td>\n      <td>$1,350</td>\n      <td>test</td>\n      <td>kombi</td>\n      <td>2003</td>\n      <td>manuell</td>\n      <td>0</td>\n      <td>focus</td>\n      <td>150,000km</td>\n      <td>7</td>\n      <td>benzin</td>\n      <td>ford</td>\n      <td>nein</td>\n      <td>2016-04-01 00:00:00</td>\n      <td>0</td>\n      <td>39218</td>\n      <td>2016-04-01 14:38:50</td>\n    </tr>\n    <tr>\n      <th>...</th>\n      <td>...</td>\n      <td>...</td>\n      <td>...</td>\n      <td>...</td>\n      <td>...</td>\n      <td>...</td>\n      <td>...</td>\n      <td>...</td>\n      <td>...</td>\n      <td>...</td>\n      <td>...</td>\n      <td>...</td>\n      <td>...</td>\n      <td>...</td>\n      <td>...</td>\n      <td>...</td>\n      <td>...</td>\n      <td>...</td>\n      <td>...</td>\n      <td>...</td>\n    </tr>\n    <tr>\n      <th>49995</th>\n      <td>2016-03-27 14:38:19</td>\n      <td>Audi_Q5_3.0_TDI_qu._S_tr.__Navi__Panorama__Xenon</td>\n      <td>privat</td>\n      <td>Angebot</td>\n      <td>$24,900</td>\n      <td>control</td>\n      <td>limousine</td>\n      <td>2011</td>\n      <td>automatik</td>\n      <td>239</td>\n      <td>q5</td>\n      <td>100,000km</td>\n      <td>1</td>\n      <td>diesel</td>\n      <td>audi</td>\n      <td>nein</td>\n      <td>2016-03-27 00:00:00</td>\n      <td>0</td>\n      <td>82131</td>\n      <td>2016-04-01 13:47:40</td>\n    </tr>\n    <tr>\n      <th>49996</th>\n      <td>2016-03-28 10:50:25</td>\n      <td>Opel_Astra_F_Cabrio_Bertone_Edition___TÜV_neu+...</td>\n      <td>privat</td>\n      <td>Angebot</td>\n      <td>$1,980</td>\n      <td>control</td>\n      <td>cabrio</td>\n      <td>1996</td>\n      <td>manuell</td>\n      <td>75</td>\n      <td>astra</td>\n      <td>150,000km</td>\n      <td>5</td>\n      <td>benzin</td>\n      <td>opel</td>\n      <td>nein</td>\n      <td>2016-03-28 00:00:00</td>\n      <td>0</td>\n      <td>44807</td>\n      <td>2016-04-02 14:18:02</td>\n    </tr>\n    <tr>\n      <th>49997</th>\n      <td>2016-04-02 14:44:48</td>\n      <td>Fiat_500_C_1.2_Dualogic_Lounge</td>\n      <td>privat</td>\n      <td>Angebot</td>\n      <td>$13,200</td>\n      <td>test</td>\n      <td>cabrio</td>\n      <td>2014</td>\n      <td>automatik</td>\n      <td>69</td>\n      <td>500</td>\n      <td>5,000km</td>\n      <td>11</td>\n      <td>benzin</td>\n      <td>fiat</td>\n      <td>nein</td>\n      <td>2016-04-02 00:00:00</td>\n      <td>0</td>\n      <td>73430</td>\n      <td>2016-04-04 11:47:27</td>\n    </tr>\n    <tr>\n      <th>49998</th>\n      <td>2016-03-08 19:25:42</td>\n      <td>Audi_A3_2.0_TDI_Sportback_Ambition</td>\n      <td>privat</td>\n      <td>Angebot</td>\n      <td>$22,900</td>\n      <td>control</td>\n      <td>kombi</td>\n      <td>2013</td>\n      <td>manuell</td>\n      <td>150</td>\n      <td>a3</td>\n      <td>40,000km</td>\n      <td>11</td>\n      <td>diesel</td>\n      <td>audi</td>\n      <td>nein</td>\n      <td>2016-03-08 00:00:00</td>\n      <td>0</td>\n      <td>35683</td>\n      <td>2016-04-05 16:45:07</td>\n    </tr>\n    <tr>\n      <th>49999</th>\n      <td>2016-03-14 00:42:12</td>\n      <td>Opel_Vectra_1.6_16V</td>\n      <td>privat</td>\n      <td>Angebot</td>\n      <td>$1,250</td>\n      <td>control</td>\n      <td>limousine</td>\n      <td>1996</td>\n      <td>manuell</td>\n      <td>101</td>\n      <td>vectra</td>\n      <td>150,000km</td>\n      <td>1</td>\n      <td>benzin</td>\n      <td>opel</td>\n      <td>nein</td>\n      <td>2016-03-13 00:00:00</td>\n      <td>0</td>\n      <td>45897</td>\n      <td>2016-04-06 21:18:48</td>\n    </tr>\n  </tbody>\n</table>\n<p>50000 rows × 20 columns</p>\n</div>"
     },
     "metadata": {},
     "execution_count": 2
    }
   ],
   "source": [
    "# checking the preview of the autos table\n",
    "autos"
   ]
  },
  {
   "cell_type": "markdown",
   "metadata": {},
   "source": [
    "The dataset contains 5000 rows of information with 20 columns"
   ]
  },
  {
   "cell_type": "code",
   "execution_count": 3,
   "metadata": {},
   "outputs": [
    {
     "output_type": "stream",
     "name": "stdout",
     "text": [
      "<class 'pandas.core.frame.DataFrame'>\nRangeIndex: 50000 entries, 0 to 49999\nData columns (total 20 columns):\n #   Column               Non-Null Count  Dtype \n---  ------               --------------  ----- \n 0   dateCrawled          50000 non-null  object\n 1   name                 50000 non-null  object\n 2   seller               50000 non-null  object\n 3   offerType            50000 non-null  object\n 4   price                50000 non-null  object\n 5   abtest               50000 non-null  object\n 6   vehicleType          44905 non-null  object\n 7   yearOfRegistration   50000 non-null  int64 \n 8   gearbox              47320 non-null  object\n 9   powerPS              50000 non-null  int64 \n 10  model                47242 non-null  object\n 11  odometer             50000 non-null  object\n 12  monthOfRegistration  50000 non-null  int64 \n 13  fuelType             45518 non-null  object\n 14  brand                50000 non-null  object\n 15  notRepairedDamage    40171 non-null  object\n 16  dateCreated          50000 non-null  object\n 17  nrOfPictures         50000 non-null  int64 \n 18  postalCode           50000 non-null  int64 \n 19  lastSeen             50000 non-null  object\ndtypes: int64(5), object(15)\nmemory usage: 7.6+ MB\n"
     ]
    }
   ],
   "source": [
    "# Checking the informatin about the autos table\n",
    "autos.info()"
   ]
  },
  {
   "cell_type": "markdown",
   "metadata": {},
   "source": [
    "## Part 2: Convert column names to snakecase and rename some column names based on data dictionary"
   ]
  },
  {
   "cell_type": "markdown",
   "metadata": {},
   "source": [
    "### Array of column names to be used to make edits"
   ]
  },
  {
   "cell_type": "code",
   "execution_count": 4,
   "metadata": {},
   "outputs": [],
   "source": [
    "# Making a copy of the column names\n",
    "old_columns = autos.columns.copy()"
   ]
  },
  {
   "cell_type": "code",
   "execution_count": 5,
   "metadata": {},
   "outputs": [],
   "source": [
    "# Prapare an array of column names in snakecase format\n",
    "new_columns = [\n",
    "                'date_crawled', 'name', 'seller', 'offer_type', 'price', 'abtest',\n",
    "                'vehicle_type', 'registration_year', 'gearbox', 'power_PS', 'model',\n",
    "                'kilometers', 'registration_month', 'fuel_type', 'brand',\n",
    "                'unrepaired_damage', 'ad_created', 'nr_of_pictures', 'postal_code',\n",
    "                'last_seen'\n",
    "               ]"
   ]
  },
  {
   "cell_type": "code",
   "execution_count": 6,
   "metadata": {},
   "outputs": [],
   "source": [
    "# Renaming the column names\n",
    "autos.columns = new_columns"
   ]
  },
  {
   "cell_type": "code",
   "execution_count": 7,
   "metadata": {},
   "outputs": [
    {
     "output_type": "execute_result",
     "data": {
      "text/plain": [
       "          date_crawled                                               name  \\\n",
       "0  2016-03-26 17:47:46                   Peugeot_807_160_NAVTECH_ON_BOARD   \n",
       "1  2016-04-04 13:38:56         BMW_740i_4_4_Liter_HAMANN_UMBAU_Mega_Optik   \n",
       "2  2016-03-26 18:57:24                         Volkswagen_Golf_1.6_United   \n",
       "3  2016-03-12 16:58:10  Smart_smart_fortwo_coupe_softouch/F1/Klima/Pan...   \n",
       "4  2016-04-01 14:38:50  Ford_Focus_1_6_Benzin_TÜV_neu_ist_sehr_gepfleg...   \n",
       "\n",
       "   seller offer_type   price   abtest vehicle_type  registration_year  \\\n",
       "0  privat    Angebot  $5,000  control          bus               2004   \n",
       "1  privat    Angebot  $8,500  control    limousine               1997   \n",
       "2  privat    Angebot  $8,990     test    limousine               2009   \n",
       "3  privat    Angebot  $4,350  control   kleinwagen               2007   \n",
       "4  privat    Angebot  $1,350     test        kombi               2003   \n",
       "\n",
       "     gearbox  power_PS   model kilometers  registration_month fuel_type  \\\n",
       "0    manuell       158  andere  150,000km                   3       lpg   \n",
       "1  automatik       286     7er  150,000km                   6    benzin   \n",
       "2    manuell       102    golf   70,000km                   7    benzin   \n",
       "3  automatik        71  fortwo   70,000km                   6    benzin   \n",
       "4    manuell         0   focus  150,000km                   7    benzin   \n",
       "\n",
       "        brand unrepaired_damage           ad_created  nr_of_pictures  \\\n",
       "0     peugeot              nein  2016-03-26 00:00:00               0   \n",
       "1         bmw              nein  2016-04-04 00:00:00               0   \n",
       "2  volkswagen              nein  2016-03-26 00:00:00               0   \n",
       "3       smart              nein  2016-03-12 00:00:00               0   \n",
       "4        ford              nein  2016-04-01 00:00:00               0   \n",
       "\n",
       "   postal_code            last_seen  \n",
       "0        79588  2016-04-06 06:45:54  \n",
       "1        71034  2016-04-06 14:45:08  \n",
       "2        35394  2016-04-06 20:15:37  \n",
       "3        33729  2016-03-15 03:16:28  \n",
       "4        39218  2016-04-01 14:38:50  "
      ],
      "text/html": "<div>\n<style scoped>\n    .dataframe tbody tr th:only-of-type {\n        vertical-align: middle;\n    }\n\n    .dataframe tbody tr th {\n        vertical-align: top;\n    }\n\n    .dataframe thead th {\n        text-align: right;\n    }\n</style>\n<table border=\"1\" class=\"dataframe\">\n  <thead>\n    <tr style=\"text-align: right;\">\n      <th></th>\n      <th>date_crawled</th>\n      <th>name</th>\n      <th>seller</th>\n      <th>offer_type</th>\n      <th>price</th>\n      <th>abtest</th>\n      <th>vehicle_type</th>\n      <th>registration_year</th>\n      <th>gearbox</th>\n      <th>power_PS</th>\n      <th>model</th>\n      <th>kilometers</th>\n      <th>registration_month</th>\n      <th>fuel_type</th>\n      <th>brand</th>\n      <th>unrepaired_damage</th>\n      <th>ad_created</th>\n      <th>nr_of_pictures</th>\n      <th>postal_code</th>\n      <th>last_seen</th>\n    </tr>\n  </thead>\n  <tbody>\n    <tr>\n      <th>0</th>\n      <td>2016-03-26 17:47:46</td>\n      <td>Peugeot_807_160_NAVTECH_ON_BOARD</td>\n      <td>privat</td>\n      <td>Angebot</td>\n      <td>$5,000</td>\n      <td>control</td>\n      <td>bus</td>\n      <td>2004</td>\n      <td>manuell</td>\n      <td>158</td>\n      <td>andere</td>\n      <td>150,000km</td>\n      <td>3</td>\n      <td>lpg</td>\n      <td>peugeot</td>\n      <td>nein</td>\n      <td>2016-03-26 00:00:00</td>\n      <td>0</td>\n      <td>79588</td>\n      <td>2016-04-06 06:45:54</td>\n    </tr>\n    <tr>\n      <th>1</th>\n      <td>2016-04-04 13:38:56</td>\n      <td>BMW_740i_4_4_Liter_HAMANN_UMBAU_Mega_Optik</td>\n      <td>privat</td>\n      <td>Angebot</td>\n      <td>$8,500</td>\n      <td>control</td>\n      <td>limousine</td>\n      <td>1997</td>\n      <td>automatik</td>\n      <td>286</td>\n      <td>7er</td>\n      <td>150,000km</td>\n      <td>6</td>\n      <td>benzin</td>\n      <td>bmw</td>\n      <td>nein</td>\n      <td>2016-04-04 00:00:00</td>\n      <td>0</td>\n      <td>71034</td>\n      <td>2016-04-06 14:45:08</td>\n    </tr>\n    <tr>\n      <th>2</th>\n      <td>2016-03-26 18:57:24</td>\n      <td>Volkswagen_Golf_1.6_United</td>\n      <td>privat</td>\n      <td>Angebot</td>\n      <td>$8,990</td>\n      <td>test</td>\n      <td>limousine</td>\n      <td>2009</td>\n      <td>manuell</td>\n      <td>102</td>\n      <td>golf</td>\n      <td>70,000km</td>\n      <td>7</td>\n      <td>benzin</td>\n      <td>volkswagen</td>\n      <td>nein</td>\n      <td>2016-03-26 00:00:00</td>\n      <td>0</td>\n      <td>35394</td>\n      <td>2016-04-06 20:15:37</td>\n    </tr>\n    <tr>\n      <th>3</th>\n      <td>2016-03-12 16:58:10</td>\n      <td>Smart_smart_fortwo_coupe_softouch/F1/Klima/Pan...</td>\n      <td>privat</td>\n      <td>Angebot</td>\n      <td>$4,350</td>\n      <td>control</td>\n      <td>kleinwagen</td>\n      <td>2007</td>\n      <td>automatik</td>\n      <td>71</td>\n      <td>fortwo</td>\n      <td>70,000km</td>\n      <td>6</td>\n      <td>benzin</td>\n      <td>smart</td>\n      <td>nein</td>\n      <td>2016-03-12 00:00:00</td>\n      <td>0</td>\n      <td>33729</td>\n      <td>2016-03-15 03:16:28</td>\n    </tr>\n    <tr>\n      <th>4</th>\n      <td>2016-04-01 14:38:50</td>\n      <td>Ford_Focus_1_6_Benzin_TÜV_neu_ist_sehr_gepfleg...</td>\n      <td>privat</td>\n      <td>Angebot</td>\n      <td>$1,350</td>\n      <td>test</td>\n      <td>kombi</td>\n      <td>2003</td>\n      <td>manuell</td>\n      <td>0</td>\n      <td>focus</td>\n      <td>150,000km</td>\n      <td>7</td>\n      <td>benzin</td>\n      <td>ford</td>\n      <td>nein</td>\n      <td>2016-04-01 00:00:00</td>\n      <td>0</td>\n      <td>39218</td>\n      <td>2016-04-01 14:38:50</td>\n    </tr>\n  </tbody>\n</table>\n</div>"
     },
     "metadata": {},
     "execution_count": 7
    }
   ],
   "source": [
    "# Checking that the new columns names are properly changed\n",
    "autos.head()"
   ]
  },
  {
   "cell_type": "markdown",
   "metadata": {},
   "source": [
    "**The following are the new column names that will be used from now on in the dataframe. The column names were changed to that they conform to the snakecase format from the original camelcase in which they were.**"
   ]
  },
  {
   "cell_type": "markdown",
   "metadata": {},
   "source": [
    "## Part 3: Basic Data Exploration and Cleaning Tasks"
   ]
  },
  {
   "cell_type": "code",
   "execution_count": 8,
   "metadata": {},
   "outputs": [
    {
     "output_type": "execute_result",
     "data": {
      "text/plain": [
       "               date_crawled         name  seller offer_type  price abtest  \\\n",
       "count                 50000        50000   50000      50000  50000  50000   \n",
       "unique                48213        38754       2          2   2357      2   \n",
       "top     2016-04-02 11:37:04  Ford_Fiesta  privat    Angebot     $0   test   \n",
       "freq                      3           78   49999      49999   1421  25756   \n",
       "mean                    NaN          NaN     NaN        NaN    NaN    NaN   \n",
       "std                     NaN          NaN     NaN        NaN    NaN    NaN   \n",
       "min                     NaN          NaN     NaN        NaN    NaN    NaN   \n",
       "25%                     NaN          NaN     NaN        NaN    NaN    NaN   \n",
       "50%                     NaN          NaN     NaN        NaN    NaN    NaN   \n",
       "75%                     NaN          NaN     NaN        NaN    NaN    NaN   \n",
       "max                     NaN          NaN     NaN        NaN    NaN    NaN   \n",
       "\n",
       "       vehicle_type  registration_year  gearbox      power_PS  model  \\\n",
       "count         44905       50000.000000    47320  50000.000000  47242   \n",
       "unique            8                NaN        2           NaN    245   \n",
       "top       limousine                NaN  manuell           NaN   golf   \n",
       "freq          12859                NaN    36993           NaN   4024   \n",
       "mean            NaN        2005.073280      NaN    116.355920    NaN   \n",
       "std             NaN         105.712813      NaN    209.216627    NaN   \n",
       "min             NaN        1000.000000      NaN      0.000000    NaN   \n",
       "25%             NaN        1999.000000      NaN     70.000000    NaN   \n",
       "50%             NaN        2003.000000      NaN    105.000000    NaN   \n",
       "75%             NaN        2008.000000      NaN    150.000000    NaN   \n",
       "max             NaN        9999.000000      NaN  17700.000000    NaN   \n",
       "\n",
       "       kilometers  registration_month fuel_type       brand unrepaired_damage  \\\n",
       "count       50000        50000.000000     45518       50000             40171   \n",
       "unique         13                 NaN         7          40                 2   \n",
       "top     150,000km                 NaN    benzin  volkswagen              nein   \n",
       "freq        32424                 NaN     30107       10687             35232   \n",
       "mean          NaN            5.723360       NaN         NaN               NaN   \n",
       "std           NaN            3.711984       NaN         NaN               NaN   \n",
       "min           NaN            0.000000       NaN         NaN               NaN   \n",
       "25%           NaN            3.000000       NaN         NaN               NaN   \n",
       "50%           NaN            6.000000       NaN         NaN               NaN   \n",
       "75%           NaN            9.000000       NaN         NaN               NaN   \n",
       "max           NaN           12.000000       NaN         NaN               NaN   \n",
       "\n",
       "                 ad_created  nr_of_pictures   postal_code            last_seen  \n",
       "count                 50000         50000.0  50000.000000                50000  \n",
       "unique                   76             NaN           NaN                39481  \n",
       "top     2016-04-03 00:00:00             NaN           NaN  2016-04-07 06:17:27  \n",
       "freq                   1946             NaN           NaN                    8  \n",
       "mean                    NaN             0.0  50813.627300                  NaN  \n",
       "std                     NaN             0.0  25779.747957                  NaN  \n",
       "min                     NaN             0.0   1067.000000                  NaN  \n",
       "25%                     NaN             0.0  30451.000000                  NaN  \n",
       "50%                     NaN             0.0  49577.000000                  NaN  \n",
       "75%                     NaN             0.0  71540.000000                  NaN  \n",
       "max                     NaN             0.0  99998.000000                  NaN  "
      ],
      "text/html": "<div>\n<style scoped>\n    .dataframe tbody tr th:only-of-type {\n        vertical-align: middle;\n    }\n\n    .dataframe tbody tr th {\n        vertical-align: top;\n    }\n\n    .dataframe thead th {\n        text-align: right;\n    }\n</style>\n<table border=\"1\" class=\"dataframe\">\n  <thead>\n    <tr style=\"text-align: right;\">\n      <th></th>\n      <th>date_crawled</th>\n      <th>name</th>\n      <th>seller</th>\n      <th>offer_type</th>\n      <th>price</th>\n      <th>abtest</th>\n      <th>vehicle_type</th>\n      <th>registration_year</th>\n      <th>gearbox</th>\n      <th>power_PS</th>\n      <th>model</th>\n      <th>kilometers</th>\n      <th>registration_month</th>\n      <th>fuel_type</th>\n      <th>brand</th>\n      <th>unrepaired_damage</th>\n      <th>ad_created</th>\n      <th>nr_of_pictures</th>\n      <th>postal_code</th>\n      <th>last_seen</th>\n    </tr>\n  </thead>\n  <tbody>\n    <tr>\n      <th>count</th>\n      <td>50000</td>\n      <td>50000</td>\n      <td>50000</td>\n      <td>50000</td>\n      <td>50000</td>\n      <td>50000</td>\n      <td>44905</td>\n      <td>50000.000000</td>\n      <td>47320</td>\n      <td>50000.000000</td>\n      <td>47242</td>\n      <td>50000</td>\n      <td>50000.000000</td>\n      <td>45518</td>\n      <td>50000</td>\n      <td>40171</td>\n      <td>50000</td>\n      <td>50000.0</td>\n      <td>50000.000000</td>\n      <td>50000</td>\n    </tr>\n    <tr>\n      <th>unique</th>\n      <td>48213</td>\n      <td>38754</td>\n      <td>2</td>\n      <td>2</td>\n      <td>2357</td>\n      <td>2</td>\n      <td>8</td>\n      <td>NaN</td>\n      <td>2</td>\n      <td>NaN</td>\n      <td>245</td>\n      <td>13</td>\n      <td>NaN</td>\n      <td>7</td>\n      <td>40</td>\n      <td>2</td>\n      <td>76</td>\n      <td>NaN</td>\n      <td>NaN</td>\n      <td>39481</td>\n    </tr>\n    <tr>\n      <th>top</th>\n      <td>2016-04-02 11:37:04</td>\n      <td>Ford_Fiesta</td>\n      <td>privat</td>\n      <td>Angebot</td>\n      <td>$0</td>\n      <td>test</td>\n      <td>limousine</td>\n      <td>NaN</td>\n      <td>manuell</td>\n      <td>NaN</td>\n      <td>golf</td>\n      <td>150,000km</td>\n      <td>NaN</td>\n      <td>benzin</td>\n      <td>volkswagen</td>\n      <td>nein</td>\n      <td>2016-04-03 00:00:00</td>\n      <td>NaN</td>\n      <td>NaN</td>\n      <td>2016-04-07 06:17:27</td>\n    </tr>\n    <tr>\n      <th>freq</th>\n      <td>3</td>\n      <td>78</td>\n      <td>49999</td>\n      <td>49999</td>\n      <td>1421</td>\n      <td>25756</td>\n      <td>12859</td>\n      <td>NaN</td>\n      <td>36993</td>\n      <td>NaN</td>\n      <td>4024</td>\n      <td>32424</td>\n      <td>NaN</td>\n      <td>30107</td>\n      <td>10687</td>\n      <td>35232</td>\n      <td>1946</td>\n      <td>NaN</td>\n      <td>NaN</td>\n      <td>8</td>\n    </tr>\n    <tr>\n      <th>mean</th>\n      <td>NaN</td>\n      <td>NaN</td>\n      <td>NaN</td>\n      <td>NaN</td>\n      <td>NaN</td>\n      <td>NaN</td>\n      <td>NaN</td>\n      <td>2005.073280</td>\n      <td>NaN</td>\n      <td>116.355920</td>\n      <td>NaN</td>\n      <td>NaN</td>\n      <td>5.723360</td>\n      <td>NaN</td>\n      <td>NaN</td>\n      <td>NaN</td>\n      <td>NaN</td>\n      <td>0.0</td>\n      <td>50813.627300</td>\n      <td>NaN</td>\n    </tr>\n    <tr>\n      <th>std</th>\n      <td>NaN</td>\n      <td>NaN</td>\n      <td>NaN</td>\n      <td>NaN</td>\n      <td>NaN</td>\n      <td>NaN</td>\n      <td>NaN</td>\n      <td>105.712813</td>\n      <td>NaN</td>\n      <td>209.216627</td>\n      <td>NaN</td>\n      <td>NaN</td>\n      <td>3.711984</td>\n      <td>NaN</td>\n      <td>NaN</td>\n      <td>NaN</td>\n      <td>NaN</td>\n      <td>0.0</td>\n      <td>25779.747957</td>\n      <td>NaN</td>\n    </tr>\n    <tr>\n      <th>min</th>\n      <td>NaN</td>\n      <td>NaN</td>\n      <td>NaN</td>\n      <td>NaN</td>\n      <td>NaN</td>\n      <td>NaN</td>\n      <td>NaN</td>\n      <td>1000.000000</td>\n      <td>NaN</td>\n      <td>0.000000</td>\n      <td>NaN</td>\n      <td>NaN</td>\n      <td>0.000000</td>\n      <td>NaN</td>\n      <td>NaN</td>\n      <td>NaN</td>\n      <td>NaN</td>\n      <td>0.0</td>\n      <td>1067.000000</td>\n      <td>NaN</td>\n    </tr>\n    <tr>\n      <th>25%</th>\n      <td>NaN</td>\n      <td>NaN</td>\n      <td>NaN</td>\n      <td>NaN</td>\n      <td>NaN</td>\n      <td>NaN</td>\n      <td>NaN</td>\n      <td>1999.000000</td>\n      <td>NaN</td>\n      <td>70.000000</td>\n      <td>NaN</td>\n      <td>NaN</td>\n      <td>3.000000</td>\n      <td>NaN</td>\n      <td>NaN</td>\n      <td>NaN</td>\n      <td>NaN</td>\n      <td>0.0</td>\n      <td>30451.000000</td>\n      <td>NaN</td>\n    </tr>\n    <tr>\n      <th>50%</th>\n      <td>NaN</td>\n      <td>NaN</td>\n      <td>NaN</td>\n      <td>NaN</td>\n      <td>NaN</td>\n      <td>NaN</td>\n      <td>NaN</td>\n      <td>2003.000000</td>\n      <td>NaN</td>\n      <td>105.000000</td>\n      <td>NaN</td>\n      <td>NaN</td>\n      <td>6.000000</td>\n      <td>NaN</td>\n      <td>NaN</td>\n      <td>NaN</td>\n      <td>NaN</td>\n      <td>0.0</td>\n      <td>49577.000000</td>\n      <td>NaN</td>\n    </tr>\n    <tr>\n      <th>75%</th>\n      <td>NaN</td>\n      <td>NaN</td>\n      <td>NaN</td>\n      <td>NaN</td>\n      <td>NaN</td>\n      <td>NaN</td>\n      <td>NaN</td>\n      <td>2008.000000</td>\n      <td>NaN</td>\n      <td>150.000000</td>\n      <td>NaN</td>\n      <td>NaN</td>\n      <td>9.000000</td>\n      <td>NaN</td>\n      <td>NaN</td>\n      <td>NaN</td>\n      <td>NaN</td>\n      <td>0.0</td>\n      <td>71540.000000</td>\n      <td>NaN</td>\n    </tr>\n    <tr>\n      <th>max</th>\n      <td>NaN</td>\n      <td>NaN</td>\n      <td>NaN</td>\n      <td>NaN</td>\n      <td>NaN</td>\n      <td>NaN</td>\n      <td>NaN</td>\n      <td>9999.000000</td>\n      <td>NaN</td>\n      <td>17700.000000</td>\n      <td>NaN</td>\n      <td>NaN</td>\n      <td>12.000000</td>\n      <td>NaN</td>\n      <td>NaN</td>\n      <td>NaN</td>\n      <td>NaN</td>\n      <td>0.0</td>\n      <td>99998.000000</td>\n      <td>NaN</td>\n    </tr>\n  </tbody>\n</table>\n</div>"
     },
     "metadata": {},
     "execution_count": 8
    }
   ],
   "source": [
    "# Looking at statistics for the complete autos table (both numerical and categorical data)\n",
    "autos.describe(include='all')"
   ]
  },
  {
   "cell_type": "markdown",
   "metadata": {},
   "source": [
    "**The columns _seller_, _offer_type_ and _abtest_ have each mostly one value. These columns need to be investigated further.**"
   ]
  },
  {
   "cell_type": "code",
   "execution_count": 9,
   "metadata": {},
   "outputs": [
    {
     "output_type": "execute_result",
     "data": {
      "text/plain": [
       "array(['privat', 'gewerblich'], dtype=object)"
      ]
     },
     "metadata": {},
     "execution_count": 9
    }
   ],
   "source": [
    "# Checking the unique values for 'seller' column in autos table\n",
    "autos[\"seller\"].unique()"
   ]
  },
  {
   "cell_type": "code",
   "execution_count": 10,
   "metadata": {},
   "outputs": [
    {
     "output_type": "execute_result",
     "data": {
      "text/plain": [
       "privat    49999\n",
       "Name: seller, dtype: int64"
      ]
     },
     "metadata": {},
     "execution_count": 10
    }
   ],
   "source": [
    "# Determine number of unique values from 'seller' column in autos table that is equal to 'privat'\n",
    "# There are 49999 out of 50000 items that are 'private'\n",
    "autos.loc[autos['seller'] == 'privat', 'seller'].value_counts()"
   ]
  },
  {
   "cell_type": "code",
   "execution_count": 11,
   "metadata": {},
   "outputs": [
    {
     "output_type": "execute_result",
     "data": {
      "text/plain": [
       "array(['Angebot', 'Gesuch'], dtype=object)"
      ]
     },
     "metadata": {},
     "execution_count": 11
    }
   ],
   "source": [
    "# Checking the unique values for 'offer_type' column in autos table\n",
    "autos[\"offer_type\"].unique()"
   ]
  },
  {
   "cell_type": "code",
   "execution_count": 12,
   "metadata": {},
   "outputs": [
    {
     "output_type": "execute_result",
     "data": {
      "text/plain": [
       "Angebot    49999\n",
       "Name: offer_type, dtype: int64"
      ]
     },
     "metadata": {},
     "execution_count": 12
    }
   ],
   "source": [
    "# Determine number of unique values from 'offer_type' column in autos table that is equal to 'Angebot'\n",
    "# There are 49999 out of 50000 items that are 'Angebot'\n",
    "autos.loc[autos['offer_type'] == 'Angebot', 'offer_type'].value_counts()"
   ]
  },
  {
   "cell_type": "markdown",
   "metadata": {},
   "source": [
    "**The two columns _seller_ and _offer type_ can be dropped as they only have mostly one type of information.**"
   ]
  },
  {
   "cell_type": "code",
   "execution_count": 13,
   "metadata": {},
   "outputs": [
    {
     "output_type": "execute_result",
     "data": {
      "text/plain": [
       "date_crawled          object\n",
       "name                  object\n",
       "seller                object\n",
       "offer_type            object\n",
       "price                 object\n",
       "abtest                object\n",
       "vehicle_type          object\n",
       "registration_year      int64\n",
       "gearbox               object\n",
       "power_PS               int64\n",
       "model                 object\n",
       "kilometers            object\n",
       "registration_month     int64\n",
       "fuel_type             object\n",
       "brand                 object\n",
       "unrepaired_damage     object\n",
       "ad_created            object\n",
       "nr_of_pictures         int64\n",
       "postal_code            int64\n",
       "last_seen             object\n",
       "dtype: object"
      ]
     },
     "metadata": {},
     "execution_count": 13
    }
   ],
   "source": [
    "# Checking the datatypes for the columns in autos table\n",
    "autos.dtypes"
   ]
  },
  {
   "cell_type": "markdown",
   "metadata": {},
   "source": [
    "**The infomation in columns _price_, _kilometers_ should be integers while _ad_created_ and _last seen_ are dates.**"
   ]
  },
  {
   "cell_type": "code",
   "execution_count": 14,
   "metadata": {},
   "outputs": [
    {
     "output_type": "execute_result",
     "data": {
      "text/plain": [
       "49995    $24,900\n",
       "49996     $1,980\n",
       "49997    $13,200\n",
       "49998    $22,900\n",
       "49999     $1,250\n",
       "Name: price, dtype: object"
      ]
     },
     "metadata": {},
     "execution_count": 14
    }
   ],
   "source": [
    "# Previewing some values in the 'price' column of the autos table\n",
    "autos[\"price\"].tail()"
   ]
  },
  {
   "cell_type": "markdown",
   "metadata": {},
   "source": [
    "**For _price_, the dollar symbol and the coma is to be removed, type changed to integer and <br>\n",
    "column name _price_ changed to _price_usd_**"
   ]
  },
  {
   "cell_type": "code",
   "execution_count": 16,
   "metadata": {},
   "outputs": [],
   "source": [
    "# This code removes the '$' and ',' and changes datatype to integer in the 'price' column\n",
    "autos['price'] = autos['price'].str.replace('$', \"\")\\\n",
    "                               .str.replace(\",\", \"\")\\\n",
    "                               .astype(int)"
   ]
  },
  {
   "cell_type": "code",
   "execution_count": 17,
   "metadata": {},
   "outputs": [],
   "source": [
    "# This renames the 'price' column to 'price_usd' and commits the change to autos table\n",
    "autos.rename(columns={'price': 'price_usd'}, inplace=True)"
   ]
  },
  {
   "cell_type": "code",
   "execution_count": 18,
   "metadata": {},
   "outputs": [
    {
     "output_type": "execute_result",
     "data": {
      "text/plain": [
       "0    5000\n",
       "1    8500\n",
       "2    8990\n",
       "3    4350\n",
       "4    1350\n",
       "Name: price_usd, dtype: int64"
      ]
     },
     "metadata": {},
     "execution_count": 18
    }
   ],
   "source": [
    "# Checking to see that the changes are properly effected\n",
    "autos[\"price_usd\"].head()"
   ]
  },
  {
   "cell_type": "code",
   "execution_count": 19,
   "metadata": {},
   "outputs": [
    {
     "output_type": "execute_result",
     "data": {
      "text/plain": [
       "0    150,000km\n",
       "1    150,000km\n",
       "2     70,000km\n",
       "3     70,000km\n",
       "4    150,000km\n",
       "Name: kilometers, dtype: object"
      ]
     },
     "metadata": {},
     "execution_count": 19
    }
   ],
   "source": [
    "# Previewing some values in the 'kilometers' column of the autos table\n",
    "autos[\"kilometers\"].head()"
   ]
  },
  {
   "cell_type": "markdown",
   "metadata": {},
   "source": [
    "**For _kilometers_, the km symbol and the coma is to be removed and type changed to integer**"
   ]
  },
  {
   "cell_type": "code",
   "execution_count": 20,
   "metadata": {},
   "outputs": [],
   "source": [
    "# This removes the 'km' and ',' and changes datatype to integer in 'kilometers' column\n",
    "autos['kilometers'] = autos['kilometers'].str.replace('km', \"\")\\\n",
    "                               .str.replace(\",\", \"\")\\\n",
    "                               .astype(int)"
   ]
  },
  {
   "cell_type": "code",
   "execution_count": 21,
   "metadata": {},
   "outputs": [
    {
     "output_type": "execute_result",
     "data": {
      "text/plain": [
       "0    150000\n",
       "1    150000\n",
       "2     70000\n",
       "3     70000\n",
       "4    150000\n",
       "Name: kilometers, dtype: int64"
      ]
     },
     "metadata": {},
     "execution_count": 21
    }
   ],
   "source": [
    "# Checking to see that the changes are properly effected\n",
    "autos[\"kilometers\"].head()"
   ]
  },
  {
   "cell_type": "markdown",
   "metadata": {},
   "source": [
    "## Part 4: Further Data Exploration - Removing Outliers"
   ]
  },
  {
   "cell_type": "code",
   "execution_count": 25,
   "metadata": {},
   "outputs": [
    {
     "output_type": "stream",
     "name": "stdout",
     "text": [
      "(13,)\n"
     ]
    },
    {
     "output_type": "execute_result",
     "data": {
      "text/plain": [
       "count     50000.000000\n",
       "mean     125732.700000\n",
       "std       40042.211706\n",
       "min        5000.000000\n",
       "25%      125000.000000\n",
       "50%      150000.000000\n",
       "75%      150000.000000\n",
       "max      150000.000000\n",
       "Name: kilometers, dtype: float64"
      ]
     },
     "metadata": {},
     "execution_count": 25
    }
   ],
   "source": [
    "# Checking the number of unique values in 'kilometers' column\n",
    "# Checking the 'kilometers' statistics\n",
    "print(autos[\"kilometers\"].unique().shape)\n",
    "autos[\"kilometers\"].describe()"
   ]
  },
  {
   "cell_type": "code",
   "execution_count": 26,
   "metadata": {},
   "outputs": [
    {
     "output_type": "execute_result",
     "data": {
      "text/plain": [
       "150000    32424\n",
       "125000     5170\n",
       "100000     2169\n",
       "90000      1757\n",
       "80000      1436\n",
       "70000      1230\n",
       "60000      1164\n",
       "50000      1027\n",
       "5000        967\n",
       "40000       819\n",
       "30000       789\n",
       "20000       784\n",
       "10000       264\n",
       "Name: kilometers, dtype: int64"
      ]
     },
     "metadata": {},
     "execution_count": 26
    }
   ],
   "source": [
    "# Checking the distribution of the unique values in the 'kilometers' column\n",
    "# The distribution look to be fine, no need to change anyting here\n",
    "autos[\"kilometers\"].value_counts()"
   ]
  },
  {
   "cell_type": "code",
   "execution_count": 27,
   "metadata": {},
   "outputs": [
    {
     "output_type": "stream",
     "name": "stdout",
     "text": [
      "(2357,)\n"
     ]
    },
    {
     "output_type": "execute_result",
     "data": {
      "text/plain": [
       "count       50000.000000\n",
       "mean         9840.043760\n",
       "std        481104.380500\n",
       "min             0.000000\n",
       "25%          1100.000000\n",
       "50%          2950.000000\n",
       "75%          7200.000000\n",
       "max      99999999.000000\n",
       "Name: price_usd, dtype: object"
      ]
     },
     "metadata": {},
     "execution_count": 27
    }
   ],
   "source": [
    "# Checking the number of unique values in 'price_usd' column\n",
    "# Checking the 'price_usd' statistics\n",
    "print(autos[\"price_usd\"].unique().shape)\n",
    "autos['price_usd'].describe().apply(lambda x: format(x, 'f'))"
   ]
  },
  {
   "cell_type": "code",
   "execution_count": 36,
   "metadata": {},
   "outputs": [
    {
     "output_type": "execute_result",
     "data": {
      "text/plain": [
       "39705    99999999\n",
       "42221    27322222\n",
       "27371    12345678\n",
       "39377    12345678\n",
       "47598    12345678\n",
       "2897     11111111\n",
       "24384    11111111\n",
       "11137    10000000\n",
       "47634     3890000\n",
       "7814      1300000\n",
       "22947     1234566\n",
       "43049      999999\n",
       "514        999999\n",
       "37585      999990\n",
       "36818      350000\n",
       "14715      345000\n",
       "34723      299000\n",
       "35923      295000\n",
       "12682      265000\n",
       "47337      259000\n",
       "Name: price_usd, dtype: int64"
      ]
     },
     "metadata": {},
     "execution_count": 36
    }
   ],
   "source": [
    "# Checking to see the maximum threshold value i.e. 999990\n",
    "autos['price_usd'].sort_values(ascending=False).head(20)"
   ]
  },
  {
   "cell_type": "code",
   "execution_count": 66,
   "metadata": {},
   "outputs": [
    {
     "output_type": "execute_result",
     "data": {
      "text/plain": [
       "37393    120\n",
       "28929    120\n",
       "12848    120\n",
       "13145    120\n",
       "21902    120\n",
       "39136    120\n",
       "42051    120\n",
       "29936    120\n",
       "25652    120\n",
       "15144    120\n",
       "6057     120\n",
       "7439     120\n",
       "14150    120\n",
       "47523    120\n",
       "46675    120\n",
       "29813    120\n",
       "18072    120\n",
       "35561    120\n",
       "13134    120\n",
       "23702    120\n",
       "9318     120\n",
       "42526    120\n",
       "42869    120\n",
       "30688    120\n",
       "31602    120\n",
       "40847    120\n",
       "17506    120\n",
       "15309    120\n",
       "3468     120\n",
       "43161    120\n",
       "49698    120\n",
       "36534    120\n",
       "28057    120\n",
       "4176     120\n",
       "37577    120\n",
       "17768    120\n",
       "12790    117\n",
       "46769    115\n",
       "45992    115\n",
       "29150    111\n",
       "39221    111\n",
       "48686    110\n",
       "41730    110\n",
       "12452    110\n",
       "41898    100\n",
       "34015    100\n",
       "34951    100\n",
       "30286    100\n",
       "2557     100\n",
       "35241    100\n",
       "Name: price_usd, dtype: int64"
      ]
     },
     "metadata": {},
     "execution_count": 66
    }
   ],
   "source": [
    "# Checking to see the minimum threshold value i.e. 100\n",
    "autos['price_usd'].sort_values(ascending=False)[-1940:-1890]"
   ]
  },
  {
   "cell_type": "markdown",
   "metadata": {},
   "source": [
    "**All prices above 900000 and below 100 does not seem reasonable for the price of the cars. So these can be removed**"
   ]
  },
  {
   "cell_type": "code",
   "execution_count": 67,
   "metadata": {},
   "outputs": [
    {
     "output_type": "execute_result",
     "data": {
      "text/plain": [
       "(48224, 20)"
      ]
     },
     "metadata": {},
     "execution_count": 67
    }
   ],
   "source": [
    "# Removing all the prices outside the range 100 to 900000\n",
    "autos = autos[autos[\"price_usd\"].between(100,900000)]\n",
    "autos.shape"
   ]
  },
  {
   "cell_type": "code",
   "execution_count": 68,
   "metadata": {},
   "outputs": [
    {
     "output_type": "execute_result",
     "data": {
      "text/plain": [
       "count     48224.000000\n",
       "mean       5930.371433\n",
       "std        9078.372762\n",
       "min         100.000000\n",
       "25%        1250.000000\n",
       "50%        3000.000000\n",
       "75%        7499.000000\n",
       "max      350000.000000\n",
       "Name: price_usd, dtype: object"
      ]
     },
     "metadata": {},
     "execution_count": 68
    }
   ],
   "source": [
    "# Checking the statistics after removing the outliers in the 'price_usd' column\n",
    "autos[\"price_usd\"].describe().apply(lambda x: format(x, \"f\"))"
   ]
  },
  {
   "cell_type": "code",
   "execution_count": 69,
   "metadata": {},
   "outputs": [
    {
     "output_type": "execute_result",
     "data": {
      "text/plain": [
       "350000    1\n",
       "345000    1\n",
       "299000    1\n",
       "295000    1\n",
       "265000    1\n",
       "Name: price_usd, dtype: int64"
      ]
     },
     "metadata": {},
     "execution_count": 69
    }
   ],
   "source": [
    "autos[\"price_usd\"].value_counts().sort_index(ascending=False).head()"
   ]
  },
  {
   "cell_type": "markdown",
   "metadata": {},
   "source": [
    "**The remaining values are better now, after having removed the outliers.**"
   ]
  },
  {
   "cell_type": "markdown",
   "metadata": {},
   "source": [
    "## Part 5: Data Exploration of Date Columns"
   ]
  },
  {
   "cell_type": "code",
   "execution_count": 70,
   "metadata": {},
   "outputs": [
    {
     "output_type": "execute_result",
     "data": {
      "text/plain": [
       "          date_crawled           ad_created            last_seen\n",
       "0  2016-03-26 17:47:46  2016-03-26 00:00:00  2016-04-06 06:45:54\n",
       "1  2016-04-04 13:38:56  2016-04-04 00:00:00  2016-04-06 14:45:08\n",
       "2  2016-03-26 18:57:24  2016-03-26 00:00:00  2016-04-06 20:15:37\n",
       "3  2016-03-12 16:58:10  2016-03-12 00:00:00  2016-03-15 03:16:28\n",
       "4  2016-04-01 14:38:50  2016-04-01 00:00:00  2016-04-01 14:38:50"
      ],
      "text/html": "<div>\n<style scoped>\n    .dataframe tbody tr th:only-of-type {\n        vertical-align: middle;\n    }\n\n    .dataframe tbody tr th {\n        vertical-align: top;\n    }\n\n    .dataframe thead th {\n        text-align: right;\n    }\n</style>\n<table border=\"1\" class=\"dataframe\">\n  <thead>\n    <tr style=\"text-align: right;\">\n      <th></th>\n      <th>date_crawled</th>\n      <th>ad_created</th>\n      <th>last_seen</th>\n    </tr>\n  </thead>\n  <tbody>\n    <tr>\n      <th>0</th>\n      <td>2016-03-26 17:47:46</td>\n      <td>2016-03-26 00:00:00</td>\n      <td>2016-04-06 06:45:54</td>\n    </tr>\n    <tr>\n      <th>1</th>\n      <td>2016-04-04 13:38:56</td>\n      <td>2016-04-04 00:00:00</td>\n      <td>2016-04-06 14:45:08</td>\n    </tr>\n    <tr>\n      <th>2</th>\n      <td>2016-03-26 18:57:24</td>\n      <td>2016-03-26 00:00:00</td>\n      <td>2016-04-06 20:15:37</td>\n    </tr>\n    <tr>\n      <th>3</th>\n      <td>2016-03-12 16:58:10</td>\n      <td>2016-03-12 00:00:00</td>\n      <td>2016-03-15 03:16:28</td>\n    </tr>\n    <tr>\n      <th>4</th>\n      <td>2016-04-01 14:38:50</td>\n      <td>2016-04-01 00:00:00</td>\n      <td>2016-04-01 14:38:50</td>\n    </tr>\n  </tbody>\n</table>\n</div>"
     },
     "metadata": {},
     "execution_count": 70
    }
   ],
   "source": [
    "# Previewing the frist 5 values of the 3 named columns of the autos table\n",
    "# The are all date columns\n",
    "autos[[\"date_crawled\", \"ad_created\", \"last_seen\"]].head()"
   ]
  },
  {
   "cell_type": "code",
   "execution_count": 71,
   "metadata": {},
   "outputs": [
    {
     "output_type": "execute_result",
     "data": {
      "text/plain": [
       "2016-03-05    0.025361\n",
       "2016-03-06    0.014039\n",
       "2016-03-07    0.036061\n",
       "2016-03-08    0.033179\n",
       "2016-03-09    0.033013\n",
       "2016-03-10    0.032287\n",
       "2016-03-11    0.032598\n",
       "2016-03-12    0.036911\n",
       "2016-03-13    0.015677\n",
       "2016-03-14    0.036662\n",
       "2016-03-15    0.034319\n",
       "2016-03-16    0.029467\n",
       "2016-03-17    0.031499\n",
       "2016-03-18    0.012898\n",
       "2016-03-19    0.034734\n",
       "2016-03-20    0.037803\n",
       "2016-03-21    0.037201\n",
       "2016-03-22    0.032888\n",
       "2016-03-23    0.032287\n",
       "2016-03-24    0.029446\n",
       "2016-03-25    0.031499\n",
       "2016-03-26    0.032308\n",
       "2016-03-27    0.031126\n",
       "2016-03-28    0.034962\n",
       "2016-03-29    0.034112\n",
       "2016-03-30    0.033738\n",
       "2016-03-31    0.031851\n",
       "2016-04-01    0.033697\n",
       "2016-04-02    0.035605\n",
       "2016-04-03    0.038611\n",
       "2016-04-04    0.036538\n",
       "2016-04-05    0.013064\n",
       "2016-04-06    0.003173\n",
       "2016-04-07    0.001389\n",
       "Name: date_crawled, dtype: float64"
      ]
     },
     "metadata": {},
     "execution_count": 71
    }
   ],
   "source": [
    "# This code picks only the first 10 string characters of the date for 'date_crawled' column\n",
    "# The second part calculates the percentage of each date out of the total number\n",
    "# and sorts the dates in ascending order \n",
    "autos.loc[:, \"date_crawled\"] = autos.loc[:, \"date_crawled\"].str[:10]\n",
    "autos[\"date_crawled\"].value_counts(normalize=True, dropna=False).sort_index(ascending=True)"
   ]
  },
  {
   "cell_type": "markdown",
   "metadata": {},
   "source": [
    "**The data was crawled between 3rd March to 7 April 2016 for each day. The distribution of most of the values are ranging between 1 to 3 percent of the total, except for data that was collected on 6 and 7 April, which was less than 1 percent.**"
   ]
  },
  {
   "cell_type": "code",
   "execution_count": 72,
   "metadata": {},
   "outputs": [
    {
     "output_type": "execute_result",
     "data": {
      "text/plain": [
       "2015-06-11    0.000021\n",
       "2015-08-10    0.000021\n",
       "2015-09-09    0.000021\n",
       "2015-11-10    0.000021\n",
       "2015-12-05    0.000021\n",
       "2015-12-30    0.000021\n",
       "2016-01-03    0.000021\n",
       "2016-01-07    0.000021\n",
       "2016-01-10    0.000041\n",
       "2016-01-13    0.000021\n",
       "2016-01-14    0.000021\n",
       "2016-01-16    0.000021\n",
       "2016-01-22    0.000021\n",
       "2016-01-27    0.000062\n",
       "2016-01-29    0.000021\n",
       "2016-02-01    0.000021\n",
       "2016-02-02    0.000041\n",
       "2016-02-05    0.000041\n",
       "2016-02-07    0.000021\n",
       "2016-02-08    0.000021\n",
       "2016-02-09    0.000021\n",
       "2016-02-11    0.000021\n",
       "2016-02-12    0.000041\n",
       "2016-02-14    0.000041\n",
       "2016-02-16    0.000021\n",
       "2016-02-17    0.000021\n",
       "2016-02-18    0.000041\n",
       "2016-02-19    0.000062\n",
       "2016-02-20    0.000041\n",
       "2016-02-21    0.000062\n",
       "2016-02-22    0.000021\n",
       "2016-02-23    0.000083\n",
       "2016-02-24    0.000041\n",
       "2016-02-25    0.000062\n",
       "2016-02-26    0.000041\n",
       "2016-02-27    0.000124\n",
       "2016-02-28    0.000207\n",
       "2016-02-29    0.000166\n",
       "2016-03-01    0.000104\n",
       "2016-03-02    0.000104\n",
       "2016-03-03    0.000871\n",
       "2016-03-04    0.001493\n",
       "2016-03-05    0.022914\n",
       "2016-03-06    0.015304\n",
       "2016-03-07    0.034796\n",
       "2016-03-08    0.033179\n",
       "2016-03-09    0.033096\n",
       "2016-03-10    0.031997\n",
       "2016-03-11    0.032909\n",
       "2016-03-12    0.036745\n",
       "2016-03-13    0.017045\n",
       "2016-03-14    0.035294\n",
       "2016-03-15    0.034049\n",
       "2016-03-16    0.029964\n",
       "2016-03-17    0.031167\n",
       "2016-03-18    0.013582\n",
       "2016-03-19    0.033614\n",
       "2016-03-20    0.037865\n",
       "2016-03-21    0.037429\n",
       "2016-03-22    0.032702\n",
       "2016-03-23    0.032121\n",
       "2016-03-24    0.029384\n",
       "2016-03-25    0.031623\n",
       "2016-03-26    0.032370\n",
       "2016-03-27    0.031043\n",
       "2016-03-28    0.035066\n",
       "2016-03-29    0.034070\n",
       "2016-03-30    0.033552\n",
       "2016-03-31    0.031893\n",
       "2016-04-01    0.033676\n",
       "2016-04-02    0.035294\n",
       "2016-04-03    0.038860\n",
       "2016-04-04    0.036890\n",
       "2016-04-05    0.011799\n",
       "2016-04-06    0.003256\n",
       "2016-04-07    0.001244\n",
       "Name: ad_created, dtype: float64"
      ]
     },
     "metadata": {},
     "execution_count": 72
    }
   ],
   "source": [
    "# This code picks only the first 10 string characters of the date for'ad_created' column\n",
    "# The second part calculates the percentage of each date out of the total number\n",
    "# and sorts the dates in ascending order \n",
    "pd.options.display.max_rows = 100\n",
    "autos.loc[:, \"ad_created\"] = autos.loc[:, \"ad_created\"].str[:10]\n",
    "autos[\"ad_created\"].value_counts(normalize=True, dropna=False).sort_index(ascending=True)"
   ]
  },
  {
   "cell_type": "markdown",
   "metadata": {},
   "source": [
    "**The ads were created between 11 June 2015 to 7 April 2016. Adds created appear to start off slow from June 2015 then increase up in March 2016, remain stable for much of the time until begining of April 2016 then slow down again from there.**"
   ]
  },
  {
   "cell_type": "code",
   "execution_count": 73,
   "metadata": {},
   "outputs": [
    {
     "output_type": "execute_result",
     "data": {
      "text/plain": [
       "2016-03-05    0.001078\n",
       "2016-03-06    0.004313\n",
       "2016-03-07    0.005433\n",
       "2016-03-08    0.007320\n",
       "2016-03-09    0.009580\n",
       "2016-03-10    0.010638\n",
       "2016-03-11    0.012400\n",
       "2016-03-12    0.023785\n",
       "2016-03-13    0.008875\n",
       "2016-03-14    0.012629\n",
       "2016-03-15    0.015863\n",
       "2016-03-16    0.016444\n",
       "2016-03-17    0.028098\n",
       "2016-03-18    0.007320\n",
       "2016-03-19    0.015760\n",
       "2016-03-20    0.020654\n",
       "2016-03-21    0.020550\n",
       "2016-03-22    0.021359\n",
       "2016-03-23    0.018580\n",
       "2016-03-24    0.019762\n",
       "2016-03-25    0.019098\n",
       "2016-03-26    0.016672\n",
       "2016-03-27    0.015552\n",
       "2016-03-28    0.020840\n",
       "2016-03-29    0.022292\n",
       "2016-03-30    0.024697\n",
       "2016-03-31    0.023826\n",
       "2016-04-01    0.022852\n",
       "2016-04-02    0.024884\n",
       "2016-04-03    0.025133\n",
       "2016-04-04    0.024531\n",
       "2016-04-05    0.125062\n",
       "2016-04-06    0.221964\n",
       "2016-04-07    0.132154\n",
       "Name: last_seen, dtype: float64"
      ]
     },
     "metadata": {},
     "execution_count": 73
    }
   ],
   "source": [
    "# This code picks only the first 10 string characters of the date for'last_seen' column\n",
    "# The second part calculates the percentage of each date out of the total number\n",
    "# and sorts the dates in ascending order\n",
    "autos.loc[:, \"last_seen\"] = autos.loc[:, \"last_seen\"].str[:10]\n",
    "autos[\"last_seen\"].value_counts(normalize=True, dropna=False).sort_index(ascending=True)"
   ]
  },
  {
   "cell_type": "markdown",
   "metadata": {},
   "source": [
    "**The _last_seen_ date information was collected on a daily basis between 3 March to 7 April 2016 and looks uniformly distributed.**"
   ]
  },
  {
   "cell_type": "markdown",
   "metadata": {},
   "source": [
    "## Part 6: Counting Number of Listings Outside the 1900 to 2016 Interval"
   ]
  },
  {
   "cell_type": "code",
   "execution_count": 76,
   "metadata": {},
   "outputs": [
    {
     "output_type": "execute_result",
     "data": {
      "text/plain": [
       "0    2004\n",
       "1    1997\n",
       "2    2009\n",
       "3    2007\n",
       "4    2003\n",
       "Name: registration_year, dtype: int64"
      ]
     },
     "metadata": {},
     "execution_count": 76
    }
   ],
   "source": [
    "# Previewing the first 5 items in the 'registration_year' column\n",
    "autos[\"registration_year\"].head()"
   ]
  },
  {
   "cell_type": "code",
   "execution_count": 78,
   "metadata": {},
   "outputs": [
    {
     "output_type": "execute_result",
     "data": {
      "text/plain": [
       "count    48224.000000\n",
       "mean      2004.730964\n",
       "std         87.897388\n",
       "min       1000.000000\n",
       "25%       1999.000000\n",
       "50%       2004.000000\n",
       "75%       2008.000000\n",
       "max       9999.000000\n",
       "Name: registration_year, dtype: float64"
      ]
     },
     "metadata": {},
     "execution_count": 78
    }
   ],
   "source": [
    "# Checking statistics for the 'registration_year' column\n",
    "autos[\"registration_year\"].describe()"
   ]
  },
  {
   "cell_type": "markdown",
   "metadata": {},
   "source": [
    "**The registration year of 1900 (too old) and that of 9999 (outlier) seems to be off and possibly a mistake. I determine that the values outside the range of 1900 and 2016 should be removed.**"
   ]
  },
  {
   "cell_type": "code",
   "execution_count": 79,
   "metadata": {},
   "outputs": [
    {
     "output_type": "stream",
     "name": "stdout",
     "text": [
      "(1872, 20)\n"
     ]
    },
    {
     "output_type": "execute_result",
     "data": {
      "text/plain": [
       "(48224, 20)"
      ]
     },
     "metadata": {},
     "execution_count": 79
    }
   ],
   "source": [
    "# Determining number of listings with cars that fall outside \n",
    "# the 1900 - 2016 interval\n",
    "print(autos[(autos[\"registration_year\"] < 1900) | \n",
    "            (autos[\"registration_year\"] > 2016)].shape)\n",
    "autos.shape"
   ]
  },
  {
   "cell_type": "markdown",
   "metadata": {},
   "source": [
    "**1872 out of 48224 listings fall outside the range 1900 and 2016. This accounts for approximately 4% and can safely be removed.**"
   ]
  },
  {
   "cell_type": "code",
   "execution_count": 80,
   "metadata": {},
   "outputs": [
    {
     "output_type": "execute_result",
     "data": {
      "text/plain": [
       "1910    0.000043\n",
       "1927    0.000022\n",
       "1929    0.000022\n",
       "1931    0.000022\n",
       "1934    0.000043\n",
       "1937    0.000086\n",
       "1938    0.000022\n",
       "1939    0.000022\n",
       "1941    0.000043\n",
       "1943    0.000022\n",
       "1948    0.000022\n",
       "1950    0.000022\n",
       "1951    0.000043\n",
       "1952    0.000022\n",
       "1953    0.000022\n",
       "1954    0.000043\n",
       "1955    0.000043\n",
       "1956    0.000086\n",
       "1957    0.000043\n",
       "1958    0.000086\n",
       "1959    0.000129\n",
       "1960    0.000475\n",
       "1961    0.000129\n",
       "1962    0.000086\n",
       "1963    0.000173\n",
       "1964    0.000259\n",
       "1965    0.000367\n",
       "1966    0.000475\n",
       "1967    0.000561\n",
       "1968    0.000561\n",
       "1969    0.000410\n",
       "1970    0.000798\n",
       "1971    0.000561\n",
       "1972    0.000712\n",
       "1973    0.000496\n",
       "1974    0.000518\n",
       "1975    0.000388\n",
       "1976    0.000453\n",
       "1977    0.000475\n",
       "1978    0.000906\n",
       "1979    0.000734\n",
       "1980    0.001747\n",
       "1981    0.000582\n",
       "1982    0.000885\n",
       "1983    0.001100\n",
       "1984    0.001100\n",
       "1985    0.002006\n",
       "1986    0.001532\n",
       "1987    0.001553\n",
       "1988    0.002869\n",
       "1989    0.003689\n",
       "1990    0.007163\n",
       "1991    0.007292\n",
       "1992    0.007918\n",
       "1993    0.009061\n",
       "1994    0.013505\n",
       "1995    0.025738\n",
       "1996    0.029233\n",
       "1997    0.041530\n",
       "1998    0.050483\n",
       "1999    0.062112\n",
       "2000    0.066966\n",
       "2001    0.056718\n",
       "2002    0.053439\n",
       "2003    0.058099\n",
       "2004    0.058228\n",
       "2005    0.062802\n",
       "2006    0.057560\n",
       "2007    0.049038\n",
       "2008    0.047679\n",
       "2009    0.044874\n",
       "2010    0.034238\n",
       "2011    0.034907\n",
       "2012    0.028219\n",
       "2013    0.017281\n",
       "2014    0.014282\n",
       "2015    0.008198\n",
       "2016    0.025932\n",
       "Name: registration_year, dtype: float64"
      ]
     },
     "metadata": {},
     "execution_count": 80
    }
   ],
   "source": [
    "# Removing the items that fall outside the range 1900 to 2016 of registration years\n",
    "# Calculating percentage of each 'registration_year' out of the total number\n",
    "autos = autos[autos[\"registration_year\"].between(1900,2016)]\n",
    "autos[\"registration_year\"].value_counts(normalize=True).sort_index(ascending=True)"
   ]
  },
  {
   "cell_type": "markdown",
   "metadata": {},
   "source": [
    "**There is a steady increase in registration from 1910 and it peaks around 1996 to 2009, and then drops from then on.**"
   ]
  },
  {
   "cell_type": "markdown",
   "metadata": {},
   "source": [
    "## Part 7: Aggregation Analysis"
   ]
  },
  {
   "cell_type": "code",
   "execution_count": 81,
   "metadata": {},
   "outputs": [
    {
     "output_type": "execute_result",
     "data": {
      "text/plain": [
       "array(['peugeot', 'bmw', 'volkswagen', 'smart', 'ford', 'chrysler',\n",
       "       'seat', 'renault', 'mercedes_benz', 'audi', 'sonstige_autos',\n",
       "       'opel', 'mazda', 'porsche', 'mini', 'toyota', 'dacia', 'nissan',\n",
       "       'jeep', 'saab', 'volvo', 'mitsubishi', 'jaguar', 'fiat', 'skoda',\n",
       "       'subaru', 'kia', 'citroen', 'chevrolet', 'hyundai', 'honda',\n",
       "       'daewoo', 'suzuki', 'trabant', 'land_rover', 'alfa_romeo', 'lada',\n",
       "       'rover', 'daihatsu', 'lancia'], dtype=object)"
      ]
     },
     "metadata": {},
     "execution_count": 81
    }
   ],
   "source": [
    "# Checking the unique items in the 'brand' column of the autos table\n",
    "autos[\"brand\"].unique()"
   ]
  },
  {
   "cell_type": "code",
   "execution_count": 83,
   "metadata": {},
   "outputs": [
    {
     "output_type": "execute_result",
     "data": {
      "text/plain": [
       "volkswagen        9799\n",
       "bmw               5107\n",
       "opel              4971\n",
       "mercedes_benz     4480\n",
       "audi              4022\n",
       "ford              3237\n",
       "renault           2182\n",
       "peugeot           1384\n",
       "fiat              1187\n",
       "seat               846\n",
       "skoda              761\n",
       "nissan             711\n",
       "mazda              706\n",
       "smart              658\n",
       "citroen            651\n",
       "toyota             593\n",
       "hyundai            464\n",
       "sonstige_autos     442\n",
       "volvo              423\n",
       "mini               408\n",
       "mitsubishi         379\n",
       "honda              365\n",
       "kia                328\n",
       "alfa_romeo         309\n",
       "porsche            279\n",
       "suzuki             275\n",
       "chevrolet          263\n",
       "chrysler           163\n",
       "dacia              123\n",
       "daihatsu           116\n",
       "jeep               106\n",
       "land_rover          98\n",
       "subaru              98\n",
       "saab                77\n",
       "jaguar              71\n",
       "daewoo              69\n",
       "trabant             63\n",
       "rover               62\n",
       "lancia              49\n",
       "lada                27\n",
       "Name: brand, dtype: int64"
      ]
     },
     "metadata": {},
     "execution_count": 83
    }
   ],
   "source": [
    "autos['brand'].value_counts()"
   ]
  },
  {
   "cell_type": "markdown",
   "metadata": {},
   "source": [
    "**I decide to only agregate by brands that contribute over 5% of total number. These are Volkswagen, BMW, Mercedes Benz, Opel, Audi and Ford**"
   ]
  },
  {
   "cell_type": "code",
   "execution_count": 84,
   "metadata": {},
   "outputs": [
    {
     "output_type": "execute_result",
     "data": {
      "text/plain": [
       "volkswagen       0.211404\n",
       "bmw              0.110179\n",
       "opel             0.107245\n",
       "mercedes_benz    0.096652\n",
       "audi             0.086771\n",
       "ford             0.069835\n",
       "Name: brand, dtype: float64"
      ]
     },
     "metadata": {},
     "execution_count": 84
    }
   ],
   "source": [
    "# Determine percentage contribution of each brand out of the total number\n",
    "brands = autos[\"brand\"].value_counts(normalize=True, sort=True)\n",
    "# Select the brands whose contribution is greater or equal to 5% of total number\n",
    "selected_brands = brands[brands>=0.05]\n",
    "selected_brands"
   ]
  },
  {
   "cell_type": "code",
   "execution_count": 91,
   "metadata": {},
   "outputs": [],
   "source": [
    "# Create an empty dictionary to store the aggregated data\n",
    "brand_data = {}\n",
    "\n",
    "# Use a for loop to iterate over the selected brands\n",
    "for brand in selected_brands.index:\n",
    "    # Assign the mean price to the dictionary with the brand name as key\n",
    "    selected_rows = autos[autos[\"brand\"]==brand]\n",
    "    meanprice = selected_rows['price_usd'].mean()\n",
    "    # Print out the dictionary of aggregated data\n",
    "    brand_data[brand] = meanprice"
   ]
  },
  {
   "cell_type": "code",
   "execution_count": 93,
   "metadata": {},
   "outputs": [
    {
     "output_type": "execute_result",
     "data": {
      "text/plain": [
       "{'volkswagen': 5436.95,\n",
       " 'bmw': 8381.677,\n",
       " 'opel': 3005.496,\n",
       " 'mercedes_benz': 8672.654,\n",
       " 'audi': 9380.719,\n",
       " 'ford': 3779.269}"
      ]
     },
     "metadata": {},
     "execution_count": 93
    }
   ],
   "source": [
    "# initializing K for rounding off\n",
    "K = 3\n",
    "# loop to iterate for values \n",
    "res = dict()\n",
    "for key in brand_data:\n",
    "    # rounding to K using round()\n",
    "    res[key] = round(brand_data[key], K)\n",
    "#Rounded result \n",
    "res"
   ]
  },
  {
   "cell_type": "markdown",
   "metadata": {},
   "source": [
    "**From the top 5% brands, Audi is the most expensive, followed by Mercedes Benz and BMW. Ford and Opel are the cheapest among the top 5% and Volkwagen is in the middle**"
   ]
  },
  {
   "cell_type": "markdown",
   "metadata": {},
   "source": [
    "## Part 8: Combine Data from Two Series into Single Dataframe"
   ]
  },
  {
   "cell_type": "code",
   "execution_count": 89,
   "metadata": {},
   "outputs": [
    {
     "output_type": "execute_result",
     "data": {
      "text/plain": [
       "0    150000\n",
       "1    150000\n",
       "2     70000\n",
       "3     70000\n",
       "4    150000\n",
       "Name: kilometers, dtype: int64"
      ]
     },
     "metadata": {},
     "execution_count": 89
    }
   ],
   "source": [
    "# Checking first 5 items in 'kilometers' column\n",
    "autos[\"kilometers\"].head()"
   ]
  },
  {
   "cell_type": "code",
   "execution_count": 94,
   "metadata": {},
   "outputs": [
    {
     "output_type": "execute_result",
     "data": {
      "text/plain": [
       "Index(['volkswagen', 'bmw', 'opel', 'mercedes_benz', 'audi', 'ford'], dtype='object')"
      ]
     },
     "metadata": {},
     "execution_count": 94
    }
   ],
   "source": [
    "# Retrieving the top 5% brand labels\n",
    "brands = autos[\"brand\"].value_counts(normalize=True, sort=True)\n",
    "brand_labels = brands[brands >= 0.05].index\n",
    "brand_labels"
   ]
  },
  {
   "cell_type": "code",
   "execution_count": 98,
   "metadata": {},
   "outputs": [
    {
     "output_type": "execute_result",
     "data": {
      "text/plain": [
       "{'volkswagen': 5436,\n",
       " 'bmw': 8381,\n",
       " 'opel': 3005,\n",
       " 'mercedes_benz': 8672,\n",
       " 'audi': 9380,\n",
       " 'ford': 3779}"
      ]
     },
     "metadata": {},
     "execution_count": 98
    }
   ],
   "source": [
    "# Calculating the brand mean prices for the top 5% brands\n",
    "brand_mean_prices = {}\n",
    "for brand in brand_labels:\n",
    "    price = autos[autos[\"brand\"] == brand]['price_usd']\n",
    "    brand_mean_prices[brand] = int(price.mean())\n",
    "brand_mean_prices"
   ]
  },
  {
   "cell_type": "code",
   "execution_count": 99,
   "metadata": {},
   "outputs": [
    {
     "output_type": "execute_result",
     "data": {
      "text/plain": [
       "{'volkswagen': 128799,\n",
       " 'bmw': 132695,\n",
       " 'opel': 129384,\n",
       " 'mercedes_benz': 131025,\n",
       " 'audi': 129245,\n",
       " 'ford': 124277}"
      ]
     },
     "metadata": {},
     "execution_count": 99
    }
   ],
   "source": [
    "# Calculating the brand mean kilometers for the top 5% brands\n",
    "brand_mean_kilos = {}\n",
    "for brand in brand_labels:\n",
    "    kilos = autos[autos[\"brand\"] == brand]['kilometers']\n",
    "    brand_mean_kilos[brand] = int(kilos.mean())\n",
    "brand_mean_kilos"
   ]
  },
  {
   "cell_type": "code",
   "execution_count": 107,
   "metadata": {},
   "outputs": [
    {
     "output_type": "execute_result",
     "data": {
      "text/plain": [
       "               mean_price  mean_km\n",
       "audi                 9380   129245\n",
       "mercedes_benz        8672   131025\n",
       "bmw                  8381   132695\n",
       "volkswagen           5436   128799\n",
       "ford                 3779   124277\n",
       "opel                 3005   129384"
      ],
      "text/html": "<div>\n<style scoped>\n    .dataframe tbody tr th:only-of-type {\n        vertical-align: middle;\n    }\n\n    .dataframe tbody tr th {\n        vertical-align: top;\n    }\n\n    .dataframe thead th {\n        text-align: right;\n    }\n</style>\n<table border=\"1\" class=\"dataframe\">\n  <thead>\n    <tr style=\"text-align: right;\">\n      <th></th>\n      <th>mean_price</th>\n      <th>mean_km</th>\n    </tr>\n  </thead>\n  <tbody>\n    <tr>\n      <th>audi</th>\n      <td>9380</td>\n      <td>129245</td>\n    </tr>\n    <tr>\n      <th>mercedes_benz</th>\n      <td>8672</td>\n      <td>131025</td>\n    </tr>\n    <tr>\n      <th>bmw</th>\n      <td>8381</td>\n      <td>132695</td>\n    </tr>\n    <tr>\n      <th>volkswagen</th>\n      <td>5436</td>\n      <td>128799</td>\n    </tr>\n    <tr>\n      <th>ford</th>\n      <td>3779</td>\n      <td>124277</td>\n    </tr>\n    <tr>\n      <th>opel</th>\n      <td>3005</td>\n      <td>129384</td>\n    </tr>\n  </tbody>\n</table>\n</div>"
     },
     "metadata": {},
     "execution_count": 107
    }
   ],
   "source": [
    "# Create brand mean price (bmp) series table\n",
    "bmp_series = pd.Series(brand_mean_prices, name='mean_price')\n",
    "\n",
    "# Create brand mean kilos (bmk) series table\n",
    "bmk_series = pd.Series(brand_mean_kilos, name='mean_km')\n",
    "\n",
    "# Concatenate bmp_series and bmk_series into a dataframe table df\n",
    "# Sort the table by mean_price and mean_km and arrange in descending order\n",
    "df = pd.concat([bmp_series, bmk_series], axis=1)\n",
    "df.sort_values(by=['mean_price', 'mean_km'], ascending=False)"
   ]
  },
  {
   "cell_type": "markdown",
   "metadata": {},
   "source": [
    "**The three more expensive brands, Audi, Mecedes benz and BMW also have the highest mileage according to this analysis.**"
   ]
  },
  {
   "cell_type": "markdown",
   "metadata": {},
   "source": [
    "## Part 9: Translate German words into English"
   ]
  },
  {
   "cell_type": "code",
   "execution_count": 108,
   "metadata": {},
   "outputs": [
    {
     "output_type": "execute_result",
     "data": {
      "text/plain": [
       "Index(['date_crawled', 'name', 'seller', 'offer_type', 'price_usd', 'abtest',\n",
       "       'vehicle_type', 'registration_year', 'gearbox', 'power_PS', 'model',\n",
       "       'kilometers', 'registration_month', 'fuel_type', 'brand',\n",
       "       'unrepaired_damage', 'ad_created', 'nr_of_pictures', 'postal_code',\n",
       "       'last_seen'],\n",
       "      dtype='object')"
      ]
     },
     "metadata": {},
     "execution_count": 108
    }
   ],
   "source": [
    "# Listing the autos column names\n",
    "autos.columns"
   ]
  },
  {
   "cell_type": "code",
   "execution_count": 257,
   "metadata": {},
   "outputs": [
    {
     "data": {
      "text/plain": [
       "array(['privat', 'gewerblich'], dtype=object)"
      ]
     },
     "execution_count": 257,
     "metadata": {},
     "output_type": "execute_result"
    }
   ],
   "source": [
    "# Checking the unique values for 'seller' column\n",
    "autos[\"seller\"].unique()"
   ]
  },
  {
   "cell_type": "code",
   "execution_count": 109,
   "metadata": {},
   "outputs": [
    {
     "output_type": "execute_result",
     "data": {
      "text/plain": [
       "array(['private', 'commercial'], dtype=object)"
      ]
     },
     "metadata": {},
     "execution_count": 109
    }
   ],
   "source": [
    "# Create a dictionary used to translate 'seller' column values from Germany to English\n",
    "seller = {\"privat\":\"private\", \"gewerblich\":\"commercial\"}\n",
    "autos[\"seller\"] = autos[\"seller\"].map(seller)\n",
    "autos[\"seller\"].unique()"
   ]
  },
  {
   "cell_type": "code",
   "execution_count": 111,
   "metadata": {},
   "outputs": [
    {
     "output_type": "execute_result",
     "data": {
      "text/plain": [
       "array(['bus', 'limousine', 'compact', 'station wagon', nan, 'coupe',\n",
       "       'suv', 'convertible', 'other'], dtype=object)"
      ]
     },
     "metadata": {},
     "execution_count": 111
    }
   ],
   "source": [
    "# Checking unique values for the 'vehicle_type' column\n",
    "autos[\"vehicle_type\"].unique()"
   ]
  },
  {
   "cell_type": "code",
   "execution_count": 110,
   "metadata": {},
   "outputs": [
    {
     "output_type": "execute_result",
     "data": {
      "text/plain": [
       "array(['bus', 'limousine', 'compact', 'station wagon', nan, 'coupe',\n",
       "       'suv', 'convertible', 'other'], dtype=object)"
      ]
     },
     "metadata": {},
     "execution_count": 110
    }
   ],
   "source": [
    "# Create a dictionary used to translate 'vehicle_type' column values from Germany to English\n",
    "vehicle = {\"bus\":\"bus\", \"limousine\":\"limousine\", \"kleinwagen\": \"compact\",\n",
    "           \"kombi\": \"station wagon\", \"coupe\": \"coupe\", \"suv\": \"suv\",\n",
    "           \"cabrio\": \"convertible\", \"andere\": \"other\"}\n",
    "autos[\"vehicle_type\"] = autos[\"vehicle_type\"].map(vehicle)\n",
    "autos[\"vehicle_type\"].unique()"
   ]
  },
  {
   "cell_type": "code",
   "execution_count": 263,
   "metadata": {},
   "outputs": [
    {
     "data": {
      "text/plain": [
       "array(['nein', nan, 'ja'], dtype=object)"
      ]
     },
     "execution_count": 263,
     "metadata": {},
     "output_type": "execute_result"
    }
   ],
   "source": [
    "# Checking unique values for 'unrepaired_damage' column\n",
    "autos[\"unrepaired_damage\"].unique()"
   ]
  },
  {
   "cell_type": "code",
   "execution_count": 112,
   "metadata": {},
   "outputs": [
    {
     "output_type": "execute_result",
     "data": {
      "text/plain": [
       "array(['no', nan, 'yes'], dtype=object)"
      ]
     },
     "metadata": {},
     "execution_count": 112
    }
   ],
   "source": [
    "# Create a dictionary used to translate 'unrepaired_damage' column values from Germany to English\n",
    "damage = {\"nein\":\"no\", \"ja\": \"yes\"}\n",
    "autos[\"unrepaired_damage\"] = autos[\"unrepaired_damage\"].map(damage)\n",
    "autos[\"unrepaired_damage\"].unique()"
   ]
  },
  {
   "cell_type": "markdown",
   "metadata": {},
   "source": [
    "## Most Common Brand/Model Combinations"
   ]
  },
  {
   "cell_type": "code",
   "execution_count": 113,
   "metadata": {},
   "outputs": [
    {
     "output_type": "execute_result",
     "data": {
      "text/plain": [
       "0    150000\n",
       "1    150000\n",
       "2     70000\n",
       "3     70000\n",
       "4    150000\n",
       "Name: kilometers, dtype: int64"
      ]
     },
     "metadata": {},
     "execution_count": 113
    }
   ],
   "source": [
    "autos[\"kilometers\"].head()"
   ]
  },
  {
   "cell_type": "code",
   "execution_count": 115,
   "metadata": {},
   "outputs": [
    {
     "output_type": "execute_result",
     "data": {
      "text/plain": [
       "brand          model   \n",
       "volkswagen     golf        3684\n",
       "bmw            3er         2602\n",
       "volkswagen     polo        1592\n",
       "opel           corsa       1568\n",
       "volkswagen     passat      1345\n",
       "opel           astra       1337\n",
       "audi           a4          1226\n",
       "mercedes_benz  c_klasse    1135\n",
       "bmw            5er         1123\n",
       "mercedes_benz  e_klasse     953\n",
       "Name: model, dtype: int64"
      ]
     },
     "metadata": {},
     "execution_count": 115
    }
   ],
   "source": [
    "# Calculate the model counts grouped by vehicle brand type\n",
    "# Sort the resulting table indescing order and show only the first 10 items\n",
    "gp = autos.groupby('brand')['model'].value_counts().sort_values(ascending=False)[0:10]\n",
    "gp"
   ]
  },
  {
   "cell_type": "markdown",
   "metadata": {},
   "source": [
    "**Volkswagen (Golf, Polo, Passat) BMW (3ER, 5ER), Opel (Corsa, Astra) and Mercedes Benz (E Class) are among the most common brands**"
   ]
  },
  {
   "cell_type": "markdown",
   "metadata": {},
   "source": [
    "## Average Price compared to Mileage"
   ]
  },
  {
   "cell_type": "code",
   "execution_count": 129,
   "metadata": {},
   "outputs": [
    {
     "output_type": "execute_result",
     "data": {
      "text/plain": [
       "kilometers\n",
       "10000     21255.3\n",
       "20000     18523.2\n",
       "30000     16674.6\n",
       "40000     15519.0\n",
       "50000     13853.9\n",
       "60000     12407.0\n",
       "70000     10954.8\n",
       "5000       9794.1\n",
       "80000      9743.1\n",
       "90000      8470.1\n",
       "100000     8188.2\n",
       "125000     6238.3\n",
       "150000     3792.3\n",
       "Name: price_usd, dtype: float64"
      ]
     },
     "metadata": {},
     "execution_count": 129
    }
   ],
   "source": [
    "# Calculate the mean prices grouped by kilometers\n",
    "autos.groupby('kilometers')['price_usd'].mean().sort_values(ascending=False).round(1)"
   ]
  },
  {
   "cell_type": "markdown",
   "metadata": {},
   "source": [
    "**It can be seen that the mean price generally reduces as the mileage increases**"
   ]
  },
  {
   "cell_type": "markdown",
   "metadata": {},
   "source": [
    "## Brand Compared to Unrepaired Damage"
   ]
  },
  {
   "cell_type": "code",
   "execution_count": 117,
   "metadata": {},
   "outputs": [
    {
     "output_type": "execute_result",
     "data": {
      "text/plain": [
       "               mean_price  mean_km\n",
       "volkswagen           5436   128799\n",
       "bmw                  8381   132695\n",
       "opel                 3005   129384\n",
       "mercedes_benz        8672   131025\n",
       "audi                 9380   129245\n",
       "ford                 3779   124277"
      ],
      "text/html": "<div>\n<style scoped>\n    .dataframe tbody tr th:only-of-type {\n        vertical-align: middle;\n    }\n\n    .dataframe tbody tr th {\n        vertical-align: top;\n    }\n\n    .dataframe thead th {\n        text-align: right;\n    }\n</style>\n<table border=\"1\" class=\"dataframe\">\n  <thead>\n    <tr style=\"text-align: right;\">\n      <th></th>\n      <th>mean_price</th>\n      <th>mean_km</th>\n    </tr>\n  </thead>\n  <tbody>\n    <tr>\n      <th>volkswagen</th>\n      <td>5436</td>\n      <td>128799</td>\n    </tr>\n    <tr>\n      <th>bmw</th>\n      <td>8381</td>\n      <td>132695</td>\n    </tr>\n    <tr>\n      <th>opel</th>\n      <td>3005</td>\n      <td>129384</td>\n    </tr>\n    <tr>\n      <th>mercedes_benz</th>\n      <td>8672</td>\n      <td>131025</td>\n    </tr>\n    <tr>\n      <th>audi</th>\n      <td>9380</td>\n      <td>129245</td>\n    </tr>\n    <tr>\n      <th>ford</th>\n      <td>3779</td>\n      <td>124277</td>\n    </tr>\n  </tbody>\n</table>\n</div>"
     },
     "metadata": {},
     "execution_count": 117
    }
   ],
   "source": [
    "df"
   ]
  },
  {
   "cell_type": "code",
   "execution_count": 121,
   "metadata": {},
   "outputs": [
    {
     "output_type": "execute_result",
     "data": {
      "text/plain": [
       "['volkswagen', 'bmw', 'opel', 'mercedes_benz', 'audi', 'ford']"
      ]
     },
     "metadata": {},
     "execution_count": 121
    }
   ],
   "source": [
    "# Convert 'df' dataframe to a list (top_brands)\n",
    "top_brands = df.index.to_list()\n",
    "\n",
    "# Select only the brands from autos dataframe that are in the top_brands list\n",
    "top_autos = autos[autos['brand'].isin(top_brands)]\n",
    "top_brands"
   ]
  },
  {
   "cell_type": "code",
   "execution_count": 130,
   "metadata": {},
   "outputs": [
    {
     "output_type": "execute_result",
     "data": {
      "text/plain": [
       "brand          unrepaired_damage\n",
       "audi           no                   10929.2\n",
       "               yes                   3324.7\n",
       "bmw            no                    9454.4\n",
       "               yes                   3538.9\n",
       "ford           no                    4666.7\n",
       "               yes                   1408.3\n",
       "mercedes_benz  no                    9815.4\n",
       "               yes                   3933.3\n",
       "opel           no                    3672.3\n",
       "               yes                   1397.0\n",
       "volkswagen     no                    6483.2\n",
       "               yes                   2194.6\n",
       "Name: price_usd, dtype: float64"
      ]
     },
     "metadata": {},
     "execution_count": 130
    }
   ],
   "source": [
    "pd.options.display.max_rows = 200\n",
    "\n",
    "# Determine the mean price for each of the top brands grouped based on\n",
    "# whether they have unrepaired damage or not\n",
    "damage_cost = top_autos.groupby(['brand', 'unrepaired_damage'])['price_usd'].mean().round(1)\n",
    "damage_cost"
   ]
  },
  {
   "cell_type": "code",
   "execution_count": 132,
   "metadata": {},
   "outputs": [
    {
     "output_type": "execute_result",
     "data": {
      "text/plain": [
       "                                 price_usd\n",
       "brand         unrepaired_damage           \n",
       "audi          no                   10929.2\n",
       "              yes                   3324.7\n",
       "bmw           no                    9454.4\n",
       "              yes                   3538.9\n",
       "ford          no                    4666.7\n",
       "              yes                   1408.3\n",
       "mercedes_benz no                    9815.4\n",
       "              yes                   3933.3\n",
       "opel          no                    3672.3\n",
       "              yes                   1397.0\n",
       "volkswagen    no                    6483.2\n",
       "              yes                   2194.6"
      ],
      "text/html": "<div>\n<style scoped>\n    .dataframe tbody tr th:only-of-type {\n        vertical-align: middle;\n    }\n\n    .dataframe tbody tr th {\n        vertical-align: top;\n    }\n\n    .dataframe thead th {\n        text-align: right;\n    }\n</style>\n<table border=\"1\" class=\"dataframe\">\n  <thead>\n    <tr style=\"text-align: right;\">\n      <th></th>\n      <th></th>\n      <th>price_usd</th>\n    </tr>\n    <tr>\n      <th>brand</th>\n      <th>unrepaired_damage</th>\n      <th></th>\n    </tr>\n  </thead>\n  <tbody>\n    <tr>\n      <th rowspan=\"2\" valign=\"top\">audi</th>\n      <th>no</th>\n      <td>10929.2</td>\n    </tr>\n    <tr>\n      <th>yes</th>\n      <td>3324.7</td>\n    </tr>\n    <tr>\n      <th rowspan=\"2\" valign=\"top\">bmw</th>\n      <th>no</th>\n      <td>9454.4</td>\n    </tr>\n    <tr>\n      <th>yes</th>\n      <td>3538.9</td>\n    </tr>\n    <tr>\n      <th rowspan=\"2\" valign=\"top\">ford</th>\n      <th>no</th>\n      <td>4666.7</td>\n    </tr>\n    <tr>\n      <th>yes</th>\n      <td>1408.3</td>\n    </tr>\n    <tr>\n      <th rowspan=\"2\" valign=\"top\">mercedes_benz</th>\n      <th>no</th>\n      <td>9815.4</td>\n    </tr>\n    <tr>\n      <th>yes</th>\n      <td>3933.3</td>\n    </tr>\n    <tr>\n      <th rowspan=\"2\" valign=\"top\">opel</th>\n      <th>no</th>\n      <td>3672.3</td>\n    </tr>\n    <tr>\n      <th>yes</th>\n      <td>1397.0</td>\n    </tr>\n    <tr>\n      <th rowspan=\"2\" valign=\"top\">volkswagen</th>\n      <th>no</th>\n      <td>6483.2</td>\n    </tr>\n    <tr>\n      <th>yes</th>\n      <td>2194.6</td>\n    </tr>\n  </tbody>\n</table>\n</div>"
     },
     "metadata": {},
     "execution_count": 132
    }
   ],
   "source": [
    "damage_df = pd.DataFrame(damage_cost)\n",
    "damage_df"
   ]
  },
  {
   "cell_type": "markdown",
   "metadata": {},
   "source": [
    "**It is evident from this information about the top brands that brands without unrepaired damage cost about 1/2 to 1/3 the price of brands with repaired  damage**"
   ]
  }
 ],
 "metadata": {
  "kernelspec": {
   "display_name": "Python 3",
   "language": "python",
   "name": "python3"
  },
  "language_info": {
   "codemirror_mode": {
    "name": "ipython",
    "version": 3
   },
   "file_extension": ".py",
   "mimetype": "text/x-python",
   "name": "python",
   "nbconvert_exporter": "python",
   "pygments_lexer": "ipython3",
   "version": "3.7.10-final"
  }
 },
 "nbformat": 4,
 "nbformat_minor": 2
}